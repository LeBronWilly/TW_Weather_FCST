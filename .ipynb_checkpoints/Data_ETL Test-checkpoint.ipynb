{
 "cells": [
  {
   "cell_type": "code",
   "execution_count": null,
   "id": "4aa9706c",
   "metadata": {},
   "outputs": [],
   "source": [
    "# -*- coding: utf-8 -*-\n",
    "\"\"\"\n",
    "Created on 01/14, 2023\n",
    "@author: WillyF\n",
    "\n",
    "\"\"\"\n",
    "\n",
    "# https://pandas.pydata.org/docs/reference/api/pandas.json_normalize.html\n",
    "# https://opendata.cwb.gov.tw/dataset/forecast/F-C0032-001\n",
    "# https://opendata.cwb.gov.tw/dist/opendata-swagger.html?urls.primaryName=openAPI#/%E9%A0%90%E5%A0%B1/get_v1_rest_datastore_F_C0032_001\n",
    "# https://pandas.pydata.org/docs/reference/api/pandas.pivot_table.html\n",
    "# https://stackoverflow.com/questions/31306741/unmelt-pandas-dataframe\n",
    "# https://medium.com/%E6%95%B8%E6%93%9A%E4%B8%8D%E6%AD%A2-not-only-data/pandas-%E5%BF%AB%E9%80%9F%E7%9E%AD%E8%A7%A3-pivot-table-%E8%88%87%E6%87%89%E7%94%A8-21e4c37b9216\n",
    "\n"
   ]
  },
  {
   "cell_type": "code",
   "execution_count": null,
   "id": "d1091cb3",
   "metadata": {},
   "outputs": [],
   "source": [
    "import pandas as pd\n",
    "# import urllib\n",
    "import urllib.request\n",
    "import json\n",
    "import numpy as np\n",
    "# from glob import glob\n",
    "import os\n",
    "import warnings\n",
    "warnings.filterwarnings(\"ignore\")\n",
    "pd.set_option('display.max_columns', 500)\n",
    "pd.set_option('display.max_rows', 1000)"
   ]
  },
  {
   "cell_type": "code",
   "execution_count": null,
   "id": "e8501987",
   "metadata": {
    "scrolled": true
   },
   "outputs": [],
   "source": [
    "TW_Region = pd.read_csv(\n",
    "        \"https://github.com/LeBronWilly/TW_Weather_FCST/raw/main/TW_Region.csv\",\n",
    "        encoding='utf8')\n",
    "TW_Region"
   ]
  },
  {
   "cell_type": "code",
   "execution_count": null,
   "id": "43416671",
   "metadata": {},
   "outputs": [],
   "source": [
    "data_source = \"https://opendata.cwb.gov.tw/api/v1/rest/datastore/F-C0032-001?Authorization=CWB-3D27458E-8F30-4BDF-9589-6DD4A337AA74&format=JSON&locationName=&elementName=&sort=time\"\n",
    "json_url = urllib.request.urlopen(data_source)\n",
    "data = json.loads(json_url.read())\n",
    "data"
   ]
  },
  {
   "cell_type": "code",
   "execution_count": null,
   "id": "4faedaf6",
   "metadata": {},
   "outputs": [],
   "source": [
    "data_df = pd.json_normalize(data[\"records\"],\n",
    "                            record_path = [\"location\",\"weatherElement\",\"time\"],\n",
    "                            meta = [['location',\"locationName\"],\n",
    "                                    ['location',\"weatherElement\",\"elementName\"],\n",
    "                                    'datasetDescription',\n",
    "                                   ],\n",
    "                           )\n",
    "data_df.columns = [x.split(\".\")[-1] for x in data_df.columns]\n",
    "data_df[\"parameterUnit\"].replace(\"百分比\", \"%\", inplace=True)\n",
    "data_df[\"parameterUnit\"].replace(\"C\", \"°C\", inplace=True)\n",
    "data_df[\"parameterUnit\"].replace(np.nan, \"\", inplace=True)\n",
    "data_df[\"elementName\"].replace(\"Wx\", \"Weather Forcast\", inplace=True)\n",
    "data_df[\"elementName\"].replace(\"PoP\", \"Probability of Precipitation\", inplace=True)\n",
    "data_df[\"elementName\"].replace(\"MinT\", \"Min Temperature\", inplace=True)\n",
    "data_df[\"elementName\"].replace(\"MaxT\", \"Max Temperature\", inplace=True)\n",
    "data_df[\"elementName\"].replace(\"CI\", \"Comfort Index\", inplace=True)\n",
    "data_df[\"Parameter\"] = data_df[\"parameterName\"] + data_df[\"parameterUnit\"]\n",
    "data_df[\"startTime\"] = data_df[\"startTime\"].apply(lambda x: x.replace(\"-\", \"/\")[:-3])\n",
    "data_df[\"endTime\"] = data_df[\"endTime\"].apply(lambda x: x.replace(\"-\", \"/\")[:-3])\n",
    "data_df = data_df.merge(TW_Region, how=\"left\", left_on='locationName', right_on='City/County', validate=\"many_to_one\")\n",
    "data_df[\"locationName\"].replace(\"臺\", \"台\", inplace=True, regex=True)\n",
    "\n",
    "data_df"
   ]
  },
  {
   "cell_type": "code",
   "execution_count": null,
   "id": "da683ab7",
   "metadata": {},
   "outputs": [],
   "source": [
    "data_df_pivot = pd.pivot_table(data_df,\n",
    "                               index=[\"startTime\", \"endTime\", \"Region\", 'locationName'], \n",
    "                               columns=[\"elementName\"], \n",
    "                               values=[\"Parameter\"],\n",
    "                               aggfunc= lambda x: x).reset_index()\n",
    "data_df_pivot.columns = [\"startTime\",\"endTime\", \"Region\",\"locationName\",\"Comfort Index\",\n",
    "                         \"Max Temperature\",\"Min Temperature\",\"Probability of Precipitation\",\"Weather Forcast\"]\n",
    "data_df_pivot = data_df_pivot.sort_values(by=[\"locationName\",\"startTime\",\"endTime\"]).reset_index(drop=True)\n",
    "data_df_pivot[\"Period\"] = data_df_pivot[\"startTime\"].str.cat(data_df_pivot[\"endTime\"], sep =\" ~ \")\n",
    "data_df_pivot[\"Temperature\"] = data_df_pivot[\"Max Temperature\"].str.cat(data_df_pivot[\"Min Temperature\"], sep =\" ~ \")\n",
    "data_df_pivot = data_df_pivot.rename(columns={\"locationName\": \"Location\", \"Probability of Precipitation\": \"PoP\", \"Weather Forcast\": \"Weather FCST\"}, errors=\"raise\")\n",
    "\n",
    "data_df_pivot"
   ]
  },
  {
   "cell_type": "code",
   "execution_count": null,
   "id": "b8b90525",
   "metadata": {},
   "outputs": [],
   "source": []
  },
  {
   "cell_type": "code",
   "execution_count": null,
   "id": "379596a0",
   "metadata": {},
   "outputs": [],
   "source": []
  },
  {
   "cell_type": "code",
   "execution_count": null,
   "id": "f49940da",
   "metadata": {},
   "outputs": [],
   "source": []
  },
  {
   "cell_type": "code",
   "execution_count": null,
   "id": "83a2f3be",
   "metadata": {},
   "outputs": [],
   "source": []
  },
  {
   "cell_type": "code",
   "execution_count": null,
   "id": "587a34c0",
   "metadata": {},
   "outputs": [],
   "source": []
  },
  {
   "cell_type": "code",
   "execution_count": null,
   "id": "d14f23c5",
   "metadata": {},
   "outputs": [],
   "source": [
    "data_df.info()"
   ]
  },
  {
   "cell_type": "code",
   "execution_count": null,
   "id": "b5fdf3f0",
   "metadata": {},
   "outputs": [],
   "source": []
  },
  {
   "cell_type": "code",
   "execution_count": null,
   "id": "98340362",
   "metadata": {
    "scrolled": true
   },
   "outputs": [],
   "source": [
    "sorted(set(data_df_pivot[\"locationName\"]))"
   ]
  },
  {
   "cell_type": "code",
   "execution_count": null,
   "id": "0d1b730e",
   "metadata": {},
   "outputs": [],
   "source": [
    "sorted(set(data_df_pivot[\"locationName\"]))"
   ]
  },
  {
   "cell_type": "code",
   "execution_count": null,
   "id": "08fb6ad4",
   "metadata": {},
   "outputs": [],
   "source": []
  },
  {
   "cell_type": "code",
   "execution_count": null,
   "id": "ae954172",
   "metadata": {},
   "outputs": [],
   "source": []
  }
 ],
 "metadata": {
  "kernelspec": {
   "display_name": "Python 3 (ipykernel)",
   "language": "python",
   "name": "python3"
  },
  "language_info": {
   "codemirror_mode": {
    "name": "ipython",
    "version": 3
   },
   "file_extension": ".py",
   "mimetype": "text/x-python",
   "name": "python",
   "nbconvert_exporter": "python",
   "pygments_lexer": "ipython3",
   "version": "3.8.12"
  }
 },
 "nbformat": 4,
 "nbformat_minor": 5
}
