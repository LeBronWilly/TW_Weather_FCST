{
 "cells": [
  {
   "cell_type": "code",
   "execution_count": null,
   "id": "4aa9706c",
   "metadata": {},
   "outputs": [],
   "source": [
    "# -*- coding: utf-8 -*-\n",
    "\"\"\"\n",
    "Created on 01/14, 2023\n",
    "@author: WillyF\n",
    "\n",
    "\"\"\"\n",
    "\n",
    "# https://pandas.pydata.org/docs/reference/api/pandas.json_normalize.html\n",
    "# https://opendata.cwb.gov.tw/dataset/forecast/F-C0032-001\n",
    "# https://opendata.cwb.gov.tw/dist/opendata-swagger.html?urls.primaryName=openAPI#/%E9%A0%90%E5%A0%B1/get_v1_rest_datastore_F_C0032_001\n",
    "# https://pandas.pydata.org/docs/reference/api/pandas.pivot_table.html\n",
    "# https://stackoverflow.com/questions/31306741/unmelt-pandas-dataframe\n",
    "# https://medium.com/%E6%95%B8%E6%93%9A%E4%B8%8D%E6%AD%A2-not-only-data/pandas-%E5%BF%AB%E9%80%9F%E7%9E%AD%E8%A7%A3-pivot-table-%E8%88%87%E6%87%89%E7%94%A8-21e4c37b9216\n",
    "# https://docs.python.org/3/library/stdtypes.html#str.isdigit\n",
    "# https://datagy.io/python-string-to-date/\n",
    "# https://www.itsolutionstuff.com/post/how-to-check-if-today-is-wednesday-or-not-in-pythonexample.html\n",
    "# https://stackoverflow.com/questions/19289171/importing-a-variable-from-one-python-script-to-another\n",
    "# https://blog.netwrix.com/2022/11/14/how-to-hide-api-keys-github/\n",
    "\n"
   ]
  },
  {
   "cell_type": "code",
   "execution_count": null,
   "id": "d1091cb3",
   "metadata": {},
   "outputs": [],
   "source": [
    "import pandas as pd\n",
    "# import urllib\n",
    "import urllib.request\n",
    "import json\n",
    "import numpy as np\n",
    "# from glob import glob\n",
    "import os\n",
    "import warnings\n",
    "from datetime import datetime\n",
    "warnings.filterwarnings(\"ignore\")\n",
    "pd.set_option('display.max_columns', 500)\n",
    "pd.set_option('display.max_rows', 1000)\n",
    "from apikeyconfig import api_key_WF"
   ]
  },
  {
   "cell_type": "code",
   "execution_count": null,
   "id": "e8501987",
   "metadata": {
    "scrolled": true
   },
   "outputs": [],
   "source": [
    "TW_Region = pd.read_csv(\n",
    "        \"https://github.com/LeBronWilly/TW_Weather_FCST/raw/main/TW_Region.csv\",\n",
    "        encoding='utf8')\n",
    "# TW_Region"
   ]
  },
  {
   "cell_type": "code",
   "execution_count": null,
   "id": "43416671",
   "metadata": {},
   "outputs": [],
   "source": [
    "data_source = \"https://opendata.cwb.gov.tw/api/v1/rest/datastore/F-C0032-001?Authorization=\"+api_key_WF+\"&format=JSON&locationName=&elementName=&sort=time\"\n",
    "json_url = urllib.request.urlopen(data_source)\n",
    "data = json.loads(json_url.read())\n",
    "# data"
   ]
  },
  {
   "cell_type": "code",
   "execution_count": null,
   "id": "4faedaf6",
   "metadata": {},
   "outputs": [],
   "source": [
    "data_df = pd.json_normalize(data[\"records\"],\n",
    "                            record_path = [\"location\",\"weatherElement\",\"time\"],\n",
    "                            meta = [['location',\"locationName\"],\n",
    "                                    ['location',\"weatherElement\",\"elementName\"],\n",
    "                                    'datasetDescription',\n",
    "                                   ],\n",
    "                           )\n",
    "data_df.columns = [x.split(\".\")[-1] for x in data_df.columns]\n",
    "data_df[\"parameterUnit\"].replace(\"百分比\", \"%\", inplace=True)\n",
    "data_df[\"parameterUnit\"].replace(\"C\", \"°C\", inplace=True)\n",
    "data_df[\"parameterUnit\"].replace(np.nan, \"\", inplace=True)\n",
    "data_df[\"elementName\"].replace(\"Wx\", \"Weather Forcast\", inplace=True)\n",
    "data_df[\"elementName\"].replace(\"PoP\", \"Probability of Precipitation\", inplace=True)\n",
    "data_df[\"elementName\"].replace(\"MinT\", \"Min Temperature\", inplace=True)\n",
    "data_df[\"elementName\"].replace(\"MaxT\", \"Max Temperature\", inplace=True)\n",
    "data_df[\"elementName\"].replace(\"CI\", \"Comfort Index\", inplace=True)\n",
    "data_df[\"Parameter\"] = data_df[\"parameterName\"] + data_df[\"parameterUnit\"]\n",
    "data_df[\"startTime\"] = data_df[\"startTime\"].apply(lambda x: x.replace(\"-\", \"/\")[:-3])\n",
    "data_df[\"endTime\"] = data_df[\"endTime\"].apply(lambda x: x.replace(\"-\", \"/\")[:-3])\n",
    "data_df = data_df.merge(TW_Region, how=\"left\", left_on='locationName', right_on='City/County', validate=\"many_to_one\")\n",
    "data_df[\"locationName\"].replace(\"臺\", \"台\", inplace=True, regex=True)\n",
    "\n",
    "# data_df"
   ]
  },
  {
   "cell_type": "code",
   "execution_count": null,
   "id": "da683ab7",
   "metadata": {},
   "outputs": [],
   "source": [
    "data_df_pivot = pd.pivot_table(data_df,\n",
    "                               index=[\"startTime\", \"endTime\", \"Region\", 'locationName'], \n",
    "                               columns=[\"elementName\"], \n",
    "                               values=[\"Parameter\"],\n",
    "                               aggfunc= lambda x: x).reset_index()\n",
    "data_df_pivot.columns = [\"startTime\",\"endTime\", \"Region\",\"locationName\",\"Comfort Index\",\n",
    "                         \"Max Temperature\",\"Min Temperature\",\"Probability of Precipitation\",\"Weather Forcast\"]\n",
    "data_df_pivot = data_df_pivot.sort_values(by=[\"locationName\",\"startTime\",\"endTime\"]).reset_index(drop=True)\n",
    "data_df_pivot[\"Period\"] = data_df_pivot[\"startTime\"].str.cat(data_df_pivot[\"endTime\"], sep =\" ~ \")\n",
    "data_df_pivot[\"Temperature\"] = data_df_pivot[\"Max Temperature\"].str.cat(data_df_pivot[\"Min Temperature\"], sep =\" ~ \")\n",
    "data_df_pivot = data_df_pivot.rename(columns={\"locationName\": \"Location\", \"Probability of Precipitation\": \"PoP\", \"Weather Forcast\": \"Weather FCST\"}, errors=\"raise\")\n",
    "\n",
    "# data_df_pivot"
   ]
  },
  {
   "cell_type": "code",
   "execution_count": null,
   "id": "b8b90525",
   "metadata": {},
   "outputs": [],
   "source": []
  },
  {
   "cell_type": "code",
   "execution_count": null,
   "id": "379596a0",
   "metadata": {},
   "outputs": [],
   "source": []
  },
  {
   "cell_type": "code",
   "execution_count": null,
   "id": "cbb672c7",
   "metadata": {},
   "outputs": [],
   "source": []
  },
  {
   "cell_type": "code",
   "execution_count": null,
   "id": "0c2b25b8",
   "metadata": {},
   "outputs": [],
   "source": []
  },
  {
   "cell_type": "code",
   "execution_count": null,
   "id": "c65bc20f",
   "metadata": {},
   "outputs": [],
   "source": []
  },
  {
   "cell_type": "code",
   "execution_count": null,
   "id": "d2a2ec71",
   "metadata": {},
   "outputs": [],
   "source": []
  },
  {
   "cell_type": "code",
   "execution_count": null,
   "id": "f49940da",
   "metadata": {},
   "outputs": [],
   "source": [
    "TW_Region = pd.read_csv(\n",
    "        \"https://github.com/LeBronWilly/TW_Weather_FCST/raw/main/TW_Region.csv\",\n",
    "        encoding='utf8')\n",
    "# TW_Region"
   ]
  },
  {
   "cell_type": "code",
   "execution_count": null,
   "id": "83a2f3be",
   "metadata": {},
   "outputs": [],
   "source": [
    "data_source = \"https://opendata.cwb.gov.tw/api/v1/rest/datastore/F-D0047-091?Authorization=\"+api_key_WF+\"&sort=time\"\n",
    "json_url = urllib.request.urlopen(data_source)\n",
    "data = json.loads(json_url.read())\n",
    "# data"
   ]
  },
  {
   "cell_type": "code",
   "execution_count": null,
   "id": "630781ee",
   "metadata": {
    "scrolled": true
   },
   "outputs": [],
   "source": [
    "days_name = [\"Mon.\",\"Tue.\",\"Wed.\",\"Thu.\",\"Fri.\",\"Sat.\",\"Sun.\"]\n",
    "data_df = pd.json_normalize(data[\"records\"],\n",
    "                            record_path = ['locations',\"location\",\"weatherElement\",'time',\"elementValue\"],\n",
    "                            meta = [['locations','location','locationName'],\n",
    "                                    ['locations','location','lon'],\n",
    "                                    ['locations','location','lat'],\n",
    "                                    ['locations',\"location\",\"weatherElement\",\"elementName\"],\n",
    "                                    ['locations',\"location\",\"weatherElement\",\"description\"],\n",
    "                                    ['locations',\"location\",\"weatherElement\",'time',\"startTime\"],\n",
    "                                    ['locations',\"location\",\"weatherElement\",'time',\"endTime\"]])\n",
    "data_df.columns = [\"Value\",\"Unit\",\"Location\",\"Long\",\"Lat\",\"Element_EN\",\"Element\",\"StartTime\",\"EndTime\"]\n",
    "data_df = data_df[[\"StartTime\",\"EndTime\",\"Location\",\"Element\",\"Element_EN\",\"Value\",\"Unit\",\"Long\",\"Lat\"]]\n",
    "data_df = data_df[data_df[\"Unit\"]!=\"自定義 Wx 單位\"].reset_index(drop=True)\n",
    "data_df[\"Unit\"].replace(\"百分比\", \"%\", inplace=True)\n",
    "data_df[\"Unit\"].replace(\"8方位\", \"\", inplace=True)\n",
    "data_df[\"Unit\"].replace(\"紫外線指數\", \"\", inplace=True)\n",
    "data_df[\"Unit\"].replace(\"攝氏度\", \"°C\", inplace=True)\n",
    "data_df[\"Unit\"].replace(\"公尺/秒\", \"m/s\", inplace=True)\n",
    "data_df[\"Unit\"].replace(\"自定義 CI 文字\", \"\", inplace=True)\n",
    "data_df[\"Unit\"].replace(\"自定義 Wx 文字\", \"\", inplace=True)\n",
    "data_df[\"Unit\"].replace(\"自定義 Wx 單位\", \"\", inplace=True)\n",
    "data_df.loc[(data_df[\"Element\"].str.contains(\"紫外線指數\")) & (data_df[\"Unit\"].str.contains(\"曝曬級數\")),\n",
    "            \"Element\"] = \"曝曬級數\"\n",
    "data_df.loc[(data_df[\"Element\"].str.contains(\"最大風速\")) & (data_df[\"Unit\"].str.contains(\"蒲福風級\")),\n",
    "            \"Element\"] = \"蒲福風級\"\n",
    "data_df.loc[(data_df[\"Element\"].str.contains(\"最大舒適度指數\")) & (~data_df[\"Value\"].str.isdigit()),\n",
    "            \"Element\"] = \"最大舒適度\"\n",
    "data_df.loc[(data_df[\"Element\"].str.contains(\"最小舒適度指數\")) & (~data_df[\"Value\"].str.isdigit()),\n",
    "            \"Element\"] = \"最小舒適度\"\n",
    "data_df[\"Unit\"].replace(\"曝曬級數\", \"\", inplace=True)\n",
    "data_df[\"Unit\"].replace(\"蒲福風級\", \"\", inplace=True)\n",
    "data_df[\"Unit\"].replace(\"NA\", \"\", inplace=True)\n",
    "data_df[\"Unit\"].replace(\"NA \", \"\", inplace=True)\n",
    "data_df[\"Unit\"].replace(\" \", \"\", inplace=True)\n",
    "data_df[\"Value\"].replace(\"<= 1\", \"≤1\", inplace=True)\n",
    "data_df[\"Parameter\"] = data_df[\"Value\"] + data_df[\"Unit\"]\n",
    "data_df[\"Parameter\"].replace(\" %\", \"-\", inplace=True)\n",
    "data_df[\"StartTime\"] = data_df[\"StartTime\"].apply(lambda x: x.replace(\"-\", \"/\")[:-3])\n",
    "data_df[\"StartTime\"] = data_df[\"StartTime\"].apply(lambda x: x+\" (\"+days_name[datetime.strptime(x, '%Y/%m/%d %H:%M').weekday()]+\")\")\n",
    "data_df[\"Date\"] = data_df[\"StartTime\"].apply(lambda x: x.split(\" \")[0]+\" \"+x.split(\" \")[-1])\n",
    "data_df[\"EndTime\"] = data_df[\"EndTime\"].apply(lambda x: x.replace(\"-\", \"/\")[:-3])\n",
    "data_df[\"EndTime\"] = data_df[\"EndTime\"].apply(lambda x: x+\" (\"+days_name[datetime.strptime(x, '%Y/%m/%d %H:%M').weekday()]+\")\")\n",
    "data_df = data_df.merge(TW_Region, how=\"left\", left_on='Location', right_on='City/County', validate=\"many_to_one\")\n",
    "data_df[\"Location\"].replace(\"臺\", \"台\", inplace=True, regex=True)\n",
    "data_df[\"Long\"] = data_df[\"Long\"].astype(float)\n",
    "data_df[\"Lat\"] = data_df[\"Lat\"].astype(float)\n",
    "data_df"
   ]
  },
  {
   "cell_type": "code",
   "execution_count": null,
   "id": "6f119149",
   "metadata": {
    "scrolled": true
   },
   "outputs": [],
   "source": [
    "data_df_pivot = pd.pivot_table(data_df,\n",
    "                               index=[\"StartTime\", \"Date\", \"EndTime\", \"Region\", 'Location'], \n",
    "                               columns=[\"Element\"], \n",
    "                               values=[\"Parameter\"],\n",
    "                               aggfunc= lambda x: x).reset_index()\n",
    "data_df_pivot.columns = [\"StartTime\",\"Date\",\"EndTime\", \"Region\",\"Location\",\"12hr PoP\", \"Weather FCST\", \"Weather Desc\", \n",
    "                         \"AvgT\", \"AvgRH\",\"AvgDPT\",\"EL\",\"MinT\",\"MinAT\",\"MaxC\",\"MaxCI\",\n",
    "                         \"MaxWS\",\"MinC\",\"MinCI\",\"MaxT\",\"MaxAT\",\"UVI\",\"BWS\",\"WD\"]\n",
    "# 平均相對濕度、平均露點溫度、曝曬級數、蒲福風級\n",
    "data_df_pivot = data_df_pivot.sort_values(by=[\"Region\",\"Location\",\"StartTime\",\"EndTime\"]).reset_index(drop=True)\n",
    "data_df_pivot[\"Period\"] = data_df_pivot[\"StartTime\"].str.cat(data_df_pivot[\"EndTime\"], sep =\" ~ \")\n",
    "data_df_pivot[\"T\"] = data_df_pivot[\"MinT\"].str.cat(data_df_pivot[\"MaxT\"], sep =\" ~ \")\n",
    "data_df_pivot[\"AT\"] = data_df_pivot[\"MinAT\"].str.cat(data_df_pivot[\"MaxAT\"], sep =\" ~ \")\n",
    "data_df_pivot[\"C\"] = data_df_pivot[\"MinC\"].str.cat(data_df_pivot[\"MaxC\"], sep =\" ~ \")\n",
    "data_df_pivot[\"CI\"] = data_df_pivot[\"MinCI\"].str.cat(data_df_pivot[\"MaxCI\"], sep =\" ~ \")\n",
    "data_df_pivot[\"EL\"].fillna(\"-\", inplace=True)\n",
    "data_df_pivot[\"CI\"] = data_df_pivot[\"CI\"]+\" (\"+data_df_pivot[\"C\"]+\")\"\n",
    "data_df_pivot[\"UVI\"] = data_df_pivot[\"UVI\"]+\" (\"+data_df_pivot[\"EL\"]+\")\"\n",
    "data_df_pivot[\"UVI\"].fillna(\"-\", inplace=True)\n",
    "data_df_pivot = data_df_pivot[[\"Date\",\"Period\",\"Region\",\"Location\",\"Weather FCST\",\"12hr PoP\",\"T\",\"AvgT\",\"AT\",\n",
    "                               \"AvgRH\",\"AvgDPT\",\"UVI\",\n",
    "                               \"MaxWS\", \"BWS\", \"WD\",\"CI\", \"Weather Desc\"]]\n",
    "data_df_pivot.head(23)\n",
    "data_df_pivot[data_df_pivot[\"Location\"]==\"台北市\"]"
   ]
  },
  {
   "cell_type": "code",
   "execution_count": null,
   "id": "3cb155af",
   "metadata": {},
   "outputs": [],
   "source": [
    "# data_df_pivot.to_excel(\"data_df_pivot.xlsx\", index=False)"
   ]
  },
  {
   "cell_type": "code",
   "execution_count": null,
   "id": "ba4dc44b",
   "metadata": {},
   "outputs": [],
   "source": [
    "data_df_pivot.info()"
   ]
  },
  {
   "cell_type": "code",
   "execution_count": null,
   "id": "81df825f",
   "metadata": {},
   "outputs": [],
   "source": []
  },
  {
   "cell_type": "code",
   "execution_count": null,
   "id": "f28ea627",
   "metadata": {},
   "outputs": [],
   "source": []
  },
  {
   "cell_type": "code",
   "execution_count": null,
   "id": "e3dd8723",
   "metadata": {},
   "outputs": [],
   "source": [
    "# print(set(data_df[\"Element\"]))\n",
    "# print(set(data_df[\"Element_EN\"]))\n",
    "# print(set(data_df[\"Unit\"])) # Beaufort Wind Scale\n",
    "# print(set(data_df[\"StartTime\"]))"
   ]
  },
  {
   "cell_type": "code",
   "execution_count": null,
   "id": "2acd75df",
   "metadata": {},
   "outputs": [],
   "source": []
  },
  {
   "cell_type": "code",
   "execution_count": null,
   "id": "86daef9f",
   "metadata": {},
   "outputs": [],
   "source": []
  },
  {
   "cell_type": "code",
   "execution_count": null,
   "id": "814e33ae",
   "metadata": {},
   "outputs": [],
   "source": []
  },
  {
   "cell_type": "code",
   "execution_count": null,
   "id": "e892ea64",
   "metadata": {},
   "outputs": [],
   "source": []
  },
  {
   "cell_type": "code",
   "execution_count": null,
   "id": "3f862b8b",
   "metadata": {},
   "outputs": [],
   "source": []
  },
  {
   "cell_type": "code",
   "execution_count": null,
   "id": "629b853c",
   "metadata": {},
   "outputs": [],
   "source": []
  },
  {
   "cell_type": "code",
   "execution_count": null,
   "id": "587a34c0",
   "metadata": {},
   "outputs": [],
   "source": []
  },
  {
   "cell_type": "code",
   "execution_count": null,
   "id": "08fb6ad4",
   "metadata": {},
   "outputs": [],
   "source": []
  },
  {
   "cell_type": "code",
   "execution_count": null,
   "id": "ae954172",
   "metadata": {},
   "outputs": [],
   "source": []
  }
 ],
 "metadata": {
  "kernelspec": {
   "display_name": "Python 3 (ipykernel)",
   "language": "python",
   "name": "python3"
  },
  "language_info": {
   "codemirror_mode": {
    "name": "ipython",
    "version": 3
   },
   "file_extension": ".py",
   "mimetype": "text/x-python",
   "name": "python",
   "nbconvert_exporter": "python",
   "pygments_lexer": "ipython3",
   "version": "3.8.12"
  }
 },
 "nbformat": 4,
 "nbformat_minor": 5
}
